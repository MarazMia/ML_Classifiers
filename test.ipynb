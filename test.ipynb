{
 "cells": [
  {
   "cell_type": "code",
   "execution_count": 1,
   "metadata": {},
   "outputs": [
    {
     "name": "stdout",
     "output_type": "stream",
     "text": [
      "21\n"
     ]
    }
   ],
   "source": [
    "import glob\n",
    "import pandas as pd\n",
    "import numpy as np\n",
    "import os\n",
    "\n",
    "all_file= glob.glob(\"./songData/*.xlsx\")\n",
    "print(len(all_file))"
   ]
  },
  {
   "cell_type": "code",
   "execution_count": 11,
   "id": "b3e11eea",
   "metadata": {},
   "outputs": [
    {
     "name": "stdout",
     "output_type": "stream",
     "text": [
      "['songType0.xlsx', 'songType1.xlsx', 'songType10.xlsx', 'songType11.xlsx', 'songType12.xlsx', 'songType13.xlsx', 'songType14.xlsx', 'songType15.xlsx', 'songType16.xlsx', 'songType17.xlsx', 'songType18.xlsx', 'songType19.xlsx', 'songType2.xlsx', 'songType20.xlsx', 'songType3.xlsx', 'songType4.xlsx', 'songType5.xlsx', 'songType6.xlsx', 'songType7.xlsx', 'songType8.xlsx', 'songType9.xlsx']\n",
      "[8, 1027, 43, 62, 127, 711, 58, 2, 5, 780, 11, 46, 13, 9, 762, 8, 58, 92, 207, 19, 57]\n",
      "[0, 1, 10, 11, 12, 13, 14, 15, 16, 17, 18, 19, 2, 20, 3, 4, 5, 6, 7, 8, 9]\n",
      "     Unnamed: 0                                             lyrics  songType\n",
      "706        3195  জানি নাই গো সাধন তোমার বলে কারে। আমি ধুলায় বস...        17\n",
      "661        2790  খবর উঠেছে ওই পত্রিকায় জীবন নাকি অতি সাধারন, লি...         1\n",
      "322        1757  নিশীথশয়নে ভেবে রাখি মনে, ওগো অন্তরযামী, প্রভাত...        17\n",
      "336        1972  জেগে থেকো সারা রাত জানালায় দাড়িয়ে একা খুলে রেখ...        13\n",
      "120        1261  এসো নীপবনে ছায়াবীথি তলে এসো করো স্নান নবধারাজল...        17\n",
      "..          ...                                                ...       ...\n",
      "38          277  যদি মন ভাসে, পরবাসে, তোমার সূক্ষ্ম আকাশে আলো ন...         1\n",
      "680        3708  আকাশ বিনা চাঁদ হাসিতে পারে না যাদু বিনা পাখি ব...         3\n",
      "545        2159  তার বিদায় বেলার মালাখানি আমার গলে রে দোলে দোলে...        17\n",
      "5           339  আল্রাহ ওগো আল্লাহ আল্রাহ ওগো আল্লাহ ক্ষমা করে ...         2\n",
      "322        1933  জীবন আমার // বড় বদলে গেছে তুমি কোথায় আছো কেমন?...        13\n",
      "\n",
      "[4105 rows x 3 columns]\n"
     ]
    }
   ],
   "source": [
    "names = []\n",
    "count = []\n",
    "clusters = []\n",
    "data = []\n",
    "\n",
    "for each in all_file:\n",
    "    temp = pd.read_excel(each)\n",
    "    count.append(len(temp))\n",
    "    names.append(each.split('/')[-1][9:])\n",
    "    clusters.append(temp['songType'].iloc[0])\n",
    "    data.append(temp)\n",
    "data = pd.concat(data)\n",
    "pd.DataFrame(data)\n",
    "data = data.sample(frac = 1)\n",
    "print(names)\n",
    "print(count)\n",
    "print(clusters)\n",
    "print(data)"
   ]
  },
  {
   "cell_type": "code",
   "execution_count": 15,
   "id": "f66900d7",
   "metadata": {},
   "outputs": [
    {
     "data": {
      "text/plain": [
       "706      হৃদয়ের হয়ে গড়া নিজের কিছু স্বার্থের জন্য একটি ...\n",
       "661      সে দুটি দিয়ে নিচে কিছু দু এই কলেজের মোনালিসা ত...\n",
       "322      দেখে যত বেঁচে পিছু একটি এই কবর তাই পালিয়ে আজ ড...\n",
       "336      ছুটি সময় হয়ে বুঝতে দিলে কিছু একটু পরে তুমি আছে...\n",
       "120      গেথেছি আকাশে কুড়িয়ে যুগে শুধু তুমি আর প্রদীপ ত...\n",
       "                               ...                        \n",
       "13334    বেশ স্নান নয়নে তব সখী তলে মল্লারগানে দেহ আকুলি...\n",
       "13335    শারদ সুরে পা ঝরে আনন্দ ধানের জুড়ে তারি মধুর গা...\n",
       "13336    সে কূল তাল রাগ সাগর তোমায় যেখানে উঠছে রচনাকাল ...\n",
       "13337    ধরাধরি নিরপরাধ মানেনা কোথায় পড়ুয়া ফিরে হারিয়েছ...\n",
       "13338    দেখে যত বেঁচে পিছু একটি এই কবর তাই পালিয়ে আজ ড...\n",
       "Name: lyrics, Length: 16417, dtype: object"
      ]
     },
     "execution_count": 15,
     "metadata": {},
     "output_type": "execute_result"
    }
   ],
   "source": [
    "import re\n",
    "import stemmer\n",
    "\n",
    "valid_bangla_char = set(['া','ি','ী','ু','ূ','ৃ','ে','ৈ','ো','ৌ','ক','খ',\n",
    "'গ','ঘ','ঙ','চ','ছ','জ','ঝ','ঞ','ট','ঠ','ড','ঢ','ণ','ত','থ','দ','ধ','ন',\n",
    "'প','ফ','ব','ভ','ম','য','র','ল','শ','ষ','স','হ','ড়','ঢ়','য়','ৎ','ং','ঃ'\n",
    "'‍ঁ','‍্','‍্য','‍‍্র','‍‍র্ক','‍্ব','৺','ক্ষ','জ্ঞ','অ','আ','ই','ঈ','উ','ঊ','ঋ','এ',\n",
    "'ঐ','ও','ঔ','অ্যা','্','য়','ঁ','ড়','়','ঃ'])\n",
    "\n",
    "stop_words = set()\n",
    "stop_words_file_lines=open('stop_words.txt','r',encoding='utf-8-sig').readlines()\n",
    "for word in stop_words_file_lines:\n",
    "    stop_words.add(word.strip())\n",
    "\n",
    "stemmer_obj=stemmer.BanglaStemmer()\n",
    "\n",
    "\n",
    "for idx,sentence in enumerate(data['lyrics']):\n",
    "    words = sentence.split()\n",
    "    unique_words_per_sentence = set()\n",
    "    for every_word in words:\n",
    "        correct_word = ''\n",
    "        for each_char in every_word:\n",
    "            if each_char in valid_bangla_char:\n",
    "                correct_word += each_char\n",
    "            else:\n",
    "                # print('eta valid char list e nai ',each_char)\n",
    "                if unique_words_per_sentence is not None and unique_words_per_sentence not in stop_words:\n",
    "                    unique_words_per_sentence.add(correct_word.strip())\n",
    "                correct_word = ''\n",
    "        if unique_words_per_sentence is not None and unique_words_per_sentence not in stop_words:\n",
    "            unique_words_per_sentence.add(correct_word.strip())\n",
    "        correct_word = ''\n",
    "\n",
    "    new_refined_sentence = ' '.join(list(unique_words_per_sentence))\n",
    "    # print(new_refined_sentence)\n",
    "    # print(sentence)\n",
    "    data.at[idx,'lyrics'] = new_refined_sentence\n",
    "    # print(sentence)\n",
    "    # break\n",
    "    # word.replace(word,stemmer_obj.stem(word))\n",
    "    # print(word,stemmer_obj.stem(word))\n",
    "data['lyrics']"
   ]
  }
 ],
 "metadata": {
  "kernelspec": {
   "display_name": "Python 3.10.6 64-bit",
   "language": "python",
   "name": "python3"
  },
  "language_info": {
   "codemirror_mode": {
    "name": "ipython",
    "version": 3
   },
   "file_extension": ".py",
   "mimetype": "text/x-python",
   "name": "python",
   "nbconvert_exporter": "python",
   "pygments_lexer": "ipython3",
   "version": "3.10.6"
  },
  "vscode": {
   "interpreter": {
    "hash": "b978c50dd475f665693408b27b9fe6ebc7b1bd7d1ee83d211b24688af305d3cc"
   }
  }
 },
 "nbformat": 4,
 "nbformat_minor": 5
}
